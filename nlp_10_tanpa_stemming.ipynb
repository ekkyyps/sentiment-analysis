{
  "nbformat": 4,
  "nbformat_minor": 0,
  "metadata": {
    "colab": {
      "name": "nlp_10_tanpa_stemming.ipynb",
      "provenance": [],
      "collapsed_sections": []
    },
    "kernelspec": {
      "display_name": "Python 3",
      "name": "python3"
    }
  },
  "cells": [
    {
      "cell_type": "code",
      "metadata": {
        "colab": {
          "base_uri": "https://localhost:8080/"
        },
        "id": "-0EIkLidwCnD",
        "outputId": "2c96e374-5543-4f0d-b801-3ebe9a19cc7b"
      },
      "source": [
        "pip install Sastrawi"
      ],
      "execution_count": null,
      "outputs": [
        {
          "output_type": "stream",
          "text": [
            "Requirement already satisfied: Sastrawi in /usr/local/lib/python3.6/dist-packages (1.0.1)\n"
          ],
          "name": "stdout"
        }
      ]
    },
    {
      "cell_type": "code",
      "metadata": {
        "id": "Eb7tadc0vvpy"
      },
      "source": [
        "import csv\n",
        "import numpy as np"
      ],
      "execution_count": null,
      "outputs": []
    },
    {
      "cell_type": "code",
      "metadata": {
        "colab": {
          "base_uri": "https://localhost:8080/",
          "height": 424
        },
        "id": "qFHo6wil0G2W",
        "outputId": "7d009a99-bc37-4476-81e3-f48189a8c72b"
      },
      "source": [
        "import pandas as pd\n",
        "\n",
        "df = pd.read_csv(\"/content/dataset.csv\", nrows=700)\n",
        "df"
      ],
      "execution_count": null,
      "outputs": [
        {
          "output_type": "execute_result",
          "data": {
            "text/html": [
              "<div>\n",
              "<style scoped>\n",
              "    .dataframe tbody tr th:only-of-type {\n",
              "        vertical-align: middle;\n",
              "    }\n",
              "\n",
              "    .dataframe tbody tr th {\n",
              "        vertical-align: top;\n",
              "    }\n",
              "\n",
              "    .dataframe thead th {\n",
              "        text-align: right;\n",
              "    }\n",
              "</style>\n",
              "<table border=\"1\" class=\"dataframe\">\n",
              "  <thead>\n",
              "    <tr style=\"text-align: right;\">\n",
              "      <th></th>\n",
              "      <th>Id</th>\n",
              "      <th>Sentiment</th>\n",
              "      <th>Pasangan Calon</th>\n",
              "      <th>Text Tweet</th>\n",
              "    </tr>\n",
              "  </thead>\n",
              "  <tbody>\n",
              "    <tr>\n",
              "      <th>0</th>\n",
              "      <td>1</td>\n",
              "      <td>negative</td>\n",
              "      <td>Agus-Sylvi</td>\n",
              "      <td>Banyak akun kloning seolah2 pendukung #agussil...</td>\n",
              "    </tr>\n",
              "    <tr>\n",
              "      <th>1</th>\n",
              "      <td>2</td>\n",
              "      <td>negative</td>\n",
              "      <td>Agus-Sylvi</td>\n",
              "      <td>#agussilvy bicara apa kasihan yaa...lap itu ai...</td>\n",
              "    </tr>\n",
              "    <tr>\n",
              "      <th>2</th>\n",
              "      <td>3</td>\n",
              "      <td>negative</td>\n",
              "      <td>Agus-Sylvi</td>\n",
              "      <td>Kalau aku sih gak nunggu hasil akhir QC tp lag...</td>\n",
              "    </tr>\n",
              "    <tr>\n",
              "      <th>3</th>\n",
              "      <td>4</td>\n",
              "      <td>negative</td>\n",
              "      <td>Agus-Sylvi</td>\n",
              "      <td>Kasian oh kasian dengan peluru 1milyar untuk t...</td>\n",
              "    </tr>\n",
              "    <tr>\n",
              "      <th>4</th>\n",
              "      <td>5</td>\n",
              "      <td>negative</td>\n",
              "      <td>Agus-Sylvi</td>\n",
              "      <td>Maaf ya pendukung #AgusSilvy..hayo dukung #Ani...</td>\n",
              "    </tr>\n",
              "    <tr>\n",
              "      <th>...</th>\n",
              "      <td>...</td>\n",
              "      <td>...</td>\n",
              "      <td>...</td>\n",
              "      <td>...</td>\n",
              "    </tr>\n",
              "    <tr>\n",
              "      <th>695</th>\n",
              "      <td>696</td>\n",
              "      <td>negative</td>\n",
              "      <td>Anies-Sandi</td>\n",
              "      <td>Hari ini bhineka tunggal ika tidak akan berlak...</td>\n",
              "    </tr>\n",
              "    <tr>\n",
              "      <th>696</th>\n",
              "      <td>697</td>\n",
              "      <td>negative</td>\n",
              "      <td>Anies-Sandi</td>\n",
              "      <td>Tadinya saya suka baca @okezonenews tapi  isin...</td>\n",
              "    </tr>\n",
              "    <tr>\n",
              "      <th>697</th>\n",
              "      <td>698</td>\n",
              "      <td>negative</td>\n",
              "      <td>Anies-Sandi</td>\n",
              "      <td>Bagian 1 .. Bukti Radikalis Pendukung Teroris ...</td>\n",
              "    </tr>\n",
              "    <tr>\n",
              "      <th>698</th>\n",
              "      <td>699</td>\n",
              "      <td>negative</td>\n",
              "      <td>Anies-Sandi</td>\n",
              "      <td>Cuma kota Jakarta, PKS di Papua malah berkoali...</td>\n",
              "    </tr>\n",
              "    <tr>\n",
              "      <th>699</th>\n",
              "      <td>700</td>\n",
              "      <td>negative</td>\n",
              "      <td>Anies-Sandi</td>\n",
              "      <td>tulisan @fahiraidris ini misalnya. dia mencoba...</td>\n",
              "    </tr>\n",
              "  </tbody>\n",
              "</table>\n",
              "<p>700 rows × 4 columns</p>\n",
              "</div>"
            ],
            "text/plain": [
              "      Id  ...                                         Text Tweet\n",
              "0      1  ...  Banyak akun kloning seolah2 pendukung #agussil...\n",
              "1      2  ...  #agussilvy bicara apa kasihan yaa...lap itu ai...\n",
              "2      3  ...  Kalau aku sih gak nunggu hasil akhir QC tp lag...\n",
              "3      4  ...  Kasian oh kasian dengan peluru 1milyar untuk t...\n",
              "4      5  ...  Maaf ya pendukung #AgusSilvy..hayo dukung #Ani...\n",
              "..   ...  ...                                                ...\n",
              "695  696  ...  Hari ini bhineka tunggal ika tidak akan berlak...\n",
              "696  697  ...  Tadinya saya suka baca @okezonenews tapi  isin...\n",
              "697  698  ...  Bagian 1 .. Bukti Radikalis Pendukung Teroris ...\n",
              "698  699  ...  Cuma kota Jakarta, PKS di Papua malah berkoali...\n",
              "699  700  ...  tulisan @fahiraidris ini misalnya. dia mencoba...\n",
              "\n",
              "[700 rows x 4 columns]"
            ]
          },
          "metadata": {
            "tags": []
          },
          "execution_count": 3
        }
      ]
    },
    {
      "cell_type": "code",
      "metadata": {
        "colab": {
          "base_uri": "https://localhost:8080/"
        },
        "id": "vQ6QSRSl1UvH",
        "outputId": "61a484d6-8ad9-497b-af3e-78f69b64f66f"
      },
      "source": [
        "df.shape"
      ],
      "execution_count": null,
      "outputs": [
        {
          "output_type": "execute_result",
          "data": {
            "text/plain": [
              "(700, 4)"
            ]
          },
          "metadata": {
            "tags": []
          },
          "execution_count": 4
        }
      ]
    },
    {
      "cell_type": "code",
      "metadata": {
        "colab": {
          "base_uri": "https://localhost:8080/"
        },
        "id": "Sbm02zU80TB3",
        "outputId": "f313f8db-e0fe-4bab-f12c-7363e793a5bb"
      },
      "source": [
        "df.Sentiment.value_counts()"
      ],
      "execution_count": null,
      "outputs": [
        {
          "output_type": "execute_result",
          "data": {
            "text/plain": [
              "negative    400\n",
              "positive    300\n",
              "Name: Sentiment, dtype: int64"
            ]
          },
          "metadata": {
            "tags": []
          },
          "execution_count": 5
        }
      ]
    },
    {
      "cell_type": "code",
      "metadata": {
        "colab": {
          "base_uri": "https://localhost:8080/",
          "height": 298
        },
        "id": "yZ0O70Nt1X8Y",
        "outputId": "2bd3d672-584a-4406-aa91-c83dd4bc6bbf"
      },
      "source": [
        "import seaborn as sns\n",
        "sns.countplot(x='Sentiment', data=df)"
      ],
      "execution_count": null,
      "outputs": [
        {
          "output_type": "execute_result",
          "data": {
            "text/plain": [
              "<matplotlib.axes._subplots.AxesSubplot at 0x7f97a2356c88>"
            ]
          },
          "metadata": {
            "tags": []
          },
          "execution_count": 6
        },
        {
          "output_type": "display_data",
          "data": {
            "image/png": "[encoded data removed]",
            "text/plain": [
              "<Figure size 432x288 with 1 Axes>"
            ]
          },
          "metadata": {
            "tags": [],
            "needs_background": "light"
          }
        }
      ]
    },
    {
      "cell_type": "code",
      "metadata": {
        "colab": {
          "base_uri": "https://localhost:8080/",
          "height": 298
        },
        "id": "RnGk1chu15-l",
        "outputId": "ef9b7efc-f074-4703-8471-49505441957a"
      },
      "source": [
        "sns.countplot(x='Pasangan Calon', data=df)"
      ],
      "execution_count": null,
      "outputs": [
        {
          "output_type": "execute_result",
          "data": {
            "text/plain": [
              "<matplotlib.axes._subplots.AxesSubplot at 0x7f97ad25f390>"
            ]
          },
          "metadata": {
            "tags": []
          },
          "execution_count": 7
        },
        {
          "output_type": "display_data",
          "data": {
            "image/png": "[encoded data removed]",
            "text/plain": [
              "<Figure size 432x288 with 1 Axes>"
            ]
          },
          "metadata": {
            "tags": [],
            "needs_background": "light"
          }
        }
      ]
    },
    {
      "cell_type": "code",
      "metadata": {
        "id": "0IFm0Kye2vYo"
      },
      "source": [
        "tweet = df['Text Tweet']\n",
        "sentimen = df['Sentiment']"
      ],
      "execution_count": null,
      "outputs": []
    },
    {
      "cell_type": "markdown",
      "metadata": {
        "id": "u7E-fk8I2-Xg"
      },
      "source": [
        "Preprocessing"
      ]
    },
    {
      "cell_type": "code",
      "metadata": {
        "colab": {
          "base_uri": "https://localhost:8080/"
        },
        "id": "7wOdOabA3FU-",
        "outputId": "7ca97d47-99bf-40ea-bed4-637d6cd6ee1a"
      },
      "source": [
        "import nltk\n",
        "nltk.download(\"stopwords\")\n",
        "import re\n",
        "import Sastrawi\n",
        "from nltk.tokenize import TweetTokenizer\n",
        "from nltk.corpus import stopwords\n",
        "from Sastrawi.Stemmer.StemmerFactory import StemmerFactory"
      ],
      "execution_count": null,
      "outputs": [
        {
          "output_type": "stream",
          "text": [
            "[nltk_data] Downloading package stopwords to /root/nltk_data...\n",
            "[nltk_data]   Package stopwords is already up-to-date!\n"
          ],
          "name": "stdout"
        }
      ]
    },
    {
      "cell_type": "code",
      "metadata": {
        "id": "GcYhLAKIv3V_"
      },
      "source": [
        "def stopword(stopwordsfile):\n",
        "    stopwords=[]\n",
        "    file_stopwords = open(stopwordsfile,'r')\n",
        "    row = file_stopwords.readline()\n",
        "    while row:\n",
        "        word = row.strip()\n",
        "        stopwords.append(word)\n",
        "        row = file_stopwords.readline()\n",
        "    file_stopwords.close()\n",
        "    return stopwords"
      ],
      "execution_count": null,
      "outputs": []
    },
    {
      "cell_type": "code",
      "metadata": {
        "id": "WKwmXQqgxJha"
      },
      "source": [
        "stopwords_indo = stopword('stopwords.txt')"
      ],
      "execution_count": null,
      "outputs": []
    },
    {
      "cell_type": "code",
      "metadata": {
        "colab": {
          "base_uri": "https://localhost:8080/"
        },
        "id": "jyDqCLwfssvw",
        "outputId": "4a4d1d58-b2cb-470d-e465-c7a4ed4a71a8"
      },
      "source": [
        "# Case Folding\n",
        "%%time\n",
        "X_lower = tweet.str.lower() #lowercase\n",
        "X_num = X_lower.apply(lambda x: re.sub(r\"\\d+\", \"\", str(x))) #delete numbers\n",
        "X_sign = X_num.apply(lambda x: re.sub(r'\\W', ' ', str(x))) #punctuation"
      ],
      "execution_count": null,
      "outputs": [
        {
          "output_type": "stream",
          "text": [
            "CPU times: user 12.6 ms, sys: 1.09 ms, total: 13.6 ms\n",
            "Wall time: 15.6 ms\n"
          ],
          "name": "stdout"
        }
      ]
    },
    {
      "cell_type": "code",
      "metadata": {
        "colab": {
          "base_uri": "https://localhost:8080/"
        },
        "id": "UNSmYQcBUUaP",
        "outputId": "02a9bf4c-f109-4161-c5f5-e809ab3cc638"
      },
      "source": [
        "# Tokenization\n",
        "%%time\n",
        "tweet_tokenizer = TweetTokenizer()\n",
        "tweet_tokens = X_sign.apply(lambda x: tweet_tokenizer.tokenize(x))"
      ],
      "execution_count": null,
      "outputs": [
        {
          "output_type": "stream",
          "text": [
            "CPU times: user 40 ms, sys: 2.12 ms, total: 42.2 ms\n",
            "Wall time: 43.1 ms\n"
          ],
          "name": "stdout"
        }
      ]
    },
    {
      "cell_type": "code",
      "metadata": {
        "colab": {
          "base_uri": "https://localhost:8080/"
        },
        "id": "Hw7uueYpWzre",
        "outputId": "8af36942-3c6a-4b07-9a7d-b546ca121724"
      },
      "source": [
        "# Stopwords Removal\n",
        "%%time\n",
        "tokens = tweet_tokens.apply(lambda x: [w for w in x if w not in stopwords_indo])"
      ],
      "execution_count": null,
      "outputs": [
        {
          "output_type": "stream",
          "text": [
            "CPU times: user 93.1 ms, sys: 1.04 ms, total: 94.1 ms\n",
            "Wall time: 95.5 ms\n"
          ],
          "name": "stdout"
        }
      ]
    },
    {
      "cell_type": "markdown",
      "metadata": {
        "id": "DgQY5DnSwMNg"
      },
      "source": [
        "Split dataset"
      ]
    },
    {
      "cell_type": "code",
      "metadata": {
        "id": "YxrVuClli6nx"
      },
      "source": [
        "from sklearn.model_selection import train_test_split\n",
        "X_train,X_test,y_train,y_test = train_test_split(tokens,sentimen,test_size=0.2)"
      ],
      "execution_count": null,
      "outputs": []
    },
    {
      "cell_type": "markdown",
      "metadata": {
        "id": "lJnudG7u0lBi"
      },
      "source": [
        "Klasifikasi"
      ]
    },
    {
      "cell_type": "code",
      "metadata": {
        "id": "81guKW-Gwczo",
        "colab": {
          "base_uri": "https://localhost:8080/"
        },
        "outputId": "4ca2d99e-be89-436f-8cb8-3c5d568dc5b2"
      },
      "source": [
        "from sklearn.feature_extraction.text import TfidfVectorizer\n",
        "from sklearn.naive_bayes import MultinomialNB\n",
        "from sklearn.feature_extraction.text import CountVectorizer, TfidfVectorizer, TfidfTransformer\n",
        "from sklearn.metrics import f1_score, make_scorer,accuracy_score, classification_report, confusion_matrix\n",
        "from imblearn.pipeline import make_pipeline as make_pipeline_imb\n",
        "from sklearn.pipeline import Pipeline"
      ],
      "execution_count": null,
      "outputs": [
        {
          "output_type": "stream",
          "text": [
            "/usr/local/lib/python3.6/dist-packages/sklearn/externals/six.py:31: FutureWarning: The module is deprecated in version 0.21 and will be removed in version 0.23 since we've dropped support for Python 2.7. Please rely on the official version of six (https://pypi.org/project/six/).\n",
            "  \"(https://pypi.org/project/six/).\", FutureWarning)\n",
            "/usr/local/lib/python3.6/dist-packages/sklearn/utils/deprecation.py:144: FutureWarning: The sklearn.neighbors.base module is  deprecated in version 0.22 and will be removed in version 0.24. The corresponding classes / functions should instead be imported from sklearn.neighbors. Anything that cannot be imported from sklearn.neighbors is now part of the private API.\n",
            "  warnings.warn(message, FutureWarning)\n"
          ],
          "name": "stderr"
        }
      ]
    },
    {
      "cell_type": "code",
      "metadata": {
        "id": "X9rrcea0-HR3"
      },
      "source": [
        "def identity_tokenizer(text):\n",
        "    return text\n",
        "    \n",
        "text_clf = Pipeline([('vect', TfidfVectorizer(tokenizer=identity_tokenizer, lowercase=False)),\n",
        "                     ('clf', MultinomialNB()),\n",
        "                     ])\n",
        "tuned_parameters = {\n",
        "    'vect__min_df': [5,6,7,8,9,10], \n",
        "    'vect__max_df': [0.25, 0.5, 0.75], \n",
        "    'vect__sublinear_tf': [True, False], \n",
        "    'vect__smooth_idf': [True, False],\n",
        "    'vect__use_idf': [True, False], \n",
        "    'vect__analyzer': ['word', 'char', 'char_wb'], \n",
        "    'vect__norm': ['l1','l2'],\n",
        "    'vect__ngram_range' : [(1, 1), (1, 2), (1, 3), (1,4), (1, 5),(1, 6)],\n",
        "    'vect__use_idf': (True, False),\n",
        "    'vect__norm': ('l1', 'l2'),\n",
        "    'clf__alpha': np.linspace(0.5, 1.5, 6),\n",
        "    'clf__fit_prior': [True, False],  \n",
        "}"
      ],
      "execution_count": null,
      "outputs": []
    },
    {
      "cell_type": "markdown",
      "metadata": {
        "id": "TpyonUy-0-Wr"
      },
      "source": [
        "NB Classifier"
      ]
    },
    {
      "cell_type": "code",
      "metadata": {
        "colab": {
          "base_uri": "https://localhost:8080/"
        },
        "id": "75Rkd06uxEb9",
        "outputId": "864af5b7-626f-4158-96a5-bd711159c846"
      },
      "source": [
        "%%time\n",
        "pipe = make_pipeline_imb(TfidfVectorizer(tokenizer=identity_tokenizer, lowercase=False),\n",
        "                         TfidfTransformer(),MultinomialNB())\n",
        "\n",
        "pipe.fit(X_train, y_train)\n",
        "y_pred_NB = pipe.predict(X_test)\n",
        "results = confusion_matrix(y_test, y_pred_NB) \n",
        "print('Confusion Matrix:')\n",
        "print(results)\n",
        "print('Report:')\n",
        "report = classification_report(y_test, y_pred_NB, digits=4)\n",
        "print(report)"
      ],
      "execution_count": null,
      "outputs": [
        {
          "output_type": "stream",
          "text": [
            "Confusion Matrix:\n",
            "[[70  7]\n",
            " [26 37]]\n",
            "Report:\n",
            "              precision    recall  f1-score   support\n",
            "\n",
            "    negative     0.7292    0.9091    0.8092        77\n",
            "    positive     0.8409    0.5873    0.6916        63\n",
            "\n",
            "    accuracy                         0.7643       140\n",
            "   macro avg     0.7850    0.7482    0.7504       140\n",
            "weighted avg     0.7795    0.7643    0.7563       140\n",
            "\n",
            "CPU times: user 28.4 ms, sys: 2.05 ms, total: 30.4 ms\n",
            "Wall time: 30.4 ms\n"
          ],
          "name": "stdout"
        }
      ]
    },
    {
      "cell_type": "code",
      "metadata": {
        "colab": {
          "base_uri": "https://localhost:8080/",
          "height": 424
        },
        "id": "CRasx-qu_8kG",
        "outputId": "30c78519-217e-47b6-f6de-a180412869a8"
      },
      "source": [
        "result_class = pd.DataFrame({\n",
        "    'Actual Result': y_test,\n",
        "    'Naive Bayes': y_pred_NB,\n",
        "})\n",
        "result_class"
      ],
      "execution_count": null,
      "outputs": [
        {
          "output_type": "execute_result",
          "data": {
            "text/html": [
              "<div>\n",
              "<style scoped>\n",
              "    .dataframe tbody tr th:only-of-type {\n",
              "        vertical-align: middle;\n",
              "    }\n",
              "\n",
              "    .dataframe tbody tr th {\n",
              "        vertical-align: top;\n",
              "    }\n",
              "\n",
              "    .dataframe thead th {\n",
              "        text-align: right;\n",
              "    }\n",
              "</style>\n",
              "<table border=\"1\" class=\"dataframe\">\n",
              "  <thead>\n",
              "    <tr style=\"text-align: right;\">\n",
              "      <th></th>\n",
              "      <th>Actual Result</th>\n",
              "      <th>Naive Bayes</th>\n",
              "    </tr>\n",
              "  </thead>\n",
              "  <tbody>\n",
              "    <tr>\n",
              "      <th>299</th>\n",
              "      <td>positive</td>\n",
              "      <td>negative</td>\n",
              "    </tr>\n",
              "    <tr>\n",
              "      <th>475</th>\n",
              "      <td>positive</td>\n",
              "      <td>positive</td>\n",
              "    </tr>\n",
              "    <tr>\n",
              "      <th>145</th>\n",
              "      <td>negative</td>\n",
              "      <td>negative</td>\n",
              "    </tr>\n",
              "    <tr>\n",
              "      <th>663</th>\n",
              "      <td>negative</td>\n",
              "      <td>positive</td>\n",
              "    </tr>\n",
              "    <tr>\n",
              "      <th>686</th>\n",
              "      <td>negative</td>\n",
              "      <td>negative</td>\n",
              "    </tr>\n",
              "    <tr>\n",
              "      <th>...</th>\n",
              "      <td>...</td>\n",
              "      <td>...</td>\n",
              "    </tr>\n",
              "    <tr>\n",
              "      <th>318</th>\n",
              "      <td>negative</td>\n",
              "      <td>negative</td>\n",
              "    </tr>\n",
              "    <tr>\n",
              "      <th>308</th>\n",
              "      <td>negative</td>\n",
              "      <td>negative</td>\n",
              "    </tr>\n",
              "    <tr>\n",
              "      <th>322</th>\n",
              "      <td>negative</td>\n",
              "      <td>negative</td>\n",
              "    </tr>\n",
              "    <tr>\n",
              "      <th>625</th>\n",
              "      <td>negative</td>\n",
              "      <td>negative</td>\n",
              "    </tr>\n",
              "    <tr>\n",
              "      <th>451</th>\n",
              "      <td>positive</td>\n",
              "      <td>positive</td>\n",
              "    </tr>\n",
              "  </tbody>\n",
              "</table>\n",
              "<p>140 rows × 2 columns</p>\n",
              "</div>"
            ],
            "text/plain": [
              "    Actual Result Naive Bayes\n",
              "299      positive    negative\n",
              "475      positive    positive\n",
              "145      negative    negative\n",
              "663      negative    positive\n",
              "686      negative    negative\n",
              "..            ...         ...\n",
              "318      negative    negative\n",
              "308      negative    negative\n",
              "322      negative    negative\n",
              "625      negative    negative\n",
              "451      positive    positive\n",
              "\n",
              "[140 rows x 2 columns]"
            ]
          },
          "metadata": {
            "tags": []
          },
          "execution_count": 19
        }
      ]
    },
    {
      "cell_type": "code",
      "metadata": {
        "id": "thgHRZvxBFsy"
      },
      "source": [
        "result_class.to_excel(\"result_class.xlsx\")"
      ],
      "execution_count": null,
      "outputs": []
    },
    {
      "cell_type": "code",
      "metadata": {
        "id": "Zhb55RtYAoUj"
      },
      "source": [
        "X_train2,X_test2,y_train2,y_test2 = train_test_split(tokens,sentimen,test_size=0.3)"
      ],
      "execution_count": null,
      "outputs": []
    },
    {
      "cell_type": "code",
      "metadata": {
        "colab": {
          "base_uri": "https://localhost:8080/"
        },
        "id": "O6MSoYrPAt_s",
        "outputId": "8d4c7109-c381-44eb-ce2a-0f62c464849f"
      },
      "source": [
        "  %%time\n",
        "pipe = make_pipeline_imb(TfidfVectorizer(tokenizer=identity_tokenizer, lowercase=False),\n",
        "                         TfidfTransformer(),MultinomialNB())\n",
        "\n",
        "pipe.fit(X_train2, y_train2)\n",
        "y_pred_NB2 = pipe.predict(X_test2)\n",
        "results2 = confusion_matrix(y_test2, y_pred_NB2) \n",
        "print('Confusion Matrix:')\n",
        "print(results2)\n",
        "print('Report:')\n",
        "report2 = classification_report(y_test2, y_pred_NB2, digits=4)\n",
        "print(report2)"
      ],
      "execution_count": null,
      "outputs": [
        {
          "output_type": "stream",
          "text": [
            "Confusion Matrix:\n",
            "[[107  21]\n",
            " [ 21  61]]\n",
            "Report:\n",
            "              precision    recall  f1-score   support\n",
            "\n",
            "    negative     0.8359    0.8359    0.8359       128\n",
            "    positive     0.7439    0.7439    0.7439        82\n",
            "\n",
            "    accuracy                         0.8000       210\n",
            "   macro avg     0.7899    0.7899    0.7899       210\n",
            "weighted avg     0.8000    0.8000    0.8000       210\n",
            "\n",
            "CPU times: user 35.2 ms, sys: 144 µs, total: 35.3 ms\n",
            "Wall time: 38.2 ms\n"
          ],
          "name": "stdout"
        }
      ]
    },
    {
      "cell_type": "code",
      "metadata": {
        "id": "7F5pb32fnA6H",
        "colab": {
          "base_uri": "https://localhost:8080/",
          "height": 424
        },
        "outputId": "2efb242e-a15b-4d7f-9071-98e0b821737e"
      },
      "source": [
        "result_class2 = pd.DataFrame({\n",
        "    'Actual Result': y_test2,\n",
        "    'Naive Bayes': y_pred_NB2,\n",
        "})\n",
        "result_class2"
      ],
      "execution_count": null,
      "outputs": [
        {
          "output_type": "execute_result",
          "data": {
            "text/html": [
              "<div>\n",
              "<style scoped>\n",
              "    .dataframe tbody tr th:only-of-type {\n",
              "        vertical-align: middle;\n",
              "    }\n",
              "\n",
              "    .dataframe tbody tr th {\n",
              "        vertical-align: top;\n",
              "    }\n",
              "\n",
              "    .dataframe thead th {\n",
              "        text-align: right;\n",
              "    }\n",
              "</style>\n",
              "<table border=\"1\" class=\"dataframe\">\n",
              "  <thead>\n",
              "    <tr style=\"text-align: right;\">\n",
              "      <th></th>\n",
              "      <th>Actual Result</th>\n",
              "      <th>Naive Bayes</th>\n",
              "    </tr>\n",
              "  </thead>\n",
              "  <tbody>\n",
              "    <tr>\n",
              "      <th>20</th>\n",
              "      <td>negative</td>\n",
              "      <td>negative</td>\n",
              "    </tr>\n",
              "    <tr>\n",
              "      <th>101</th>\n",
              "      <td>negative</td>\n",
              "      <td>negative</td>\n",
              "    </tr>\n",
              "    <tr>\n",
              "      <th>62</th>\n",
              "      <td>negative</td>\n",
              "      <td>negative</td>\n",
              "    </tr>\n",
              "    <tr>\n",
              "      <th>77</th>\n",
              "      <td>negative</td>\n",
              "      <td>negative</td>\n",
              "    </tr>\n",
              "    <tr>\n",
              "      <th>151</th>\n",
              "      <td>positive</td>\n",
              "      <td>positive</td>\n",
              "    </tr>\n",
              "    <tr>\n",
              "      <th>...</th>\n",
              "      <td>...</td>\n",
              "      <td>...</td>\n",
              "    </tr>\n",
              "    <tr>\n",
              "      <th>371</th>\n",
              "      <td>negative</td>\n",
              "      <td>negative</td>\n",
              "    </tr>\n",
              "    <tr>\n",
              "      <th>446</th>\n",
              "      <td>negative</td>\n",
              "      <td>negative</td>\n",
              "    </tr>\n",
              "    <tr>\n",
              "      <th>80</th>\n",
              "      <td>negative</td>\n",
              "      <td>negative</td>\n",
              "    </tr>\n",
              "    <tr>\n",
              "      <th>82</th>\n",
              "      <td>negative</td>\n",
              "      <td>positive</td>\n",
              "    </tr>\n",
              "    <tr>\n",
              "      <th>81</th>\n",
              "      <td>negative</td>\n",
              "      <td>negative</td>\n",
              "    </tr>\n",
              "  </tbody>\n",
              "</table>\n",
              "<p>210 rows × 2 columns</p>\n",
              "</div>"
            ],
            "text/plain": [
              "    Actual Result Naive Bayes\n",
              "20       negative    negative\n",
              "101      negative    negative\n",
              "62       negative    negative\n",
              "77       negative    negative\n",
              "151      positive    positive\n",
              "..            ...         ...\n",
              "371      negative    negative\n",
              "446      negative    negative\n",
              "80       negative    negative\n",
              "82       negative    positive\n",
              "81       negative    negative\n",
              "\n",
              "[210 rows x 2 columns]"
            ]
          },
          "metadata": {
            "tags": []
          },
          "execution_count": 23
        }
      ]
    },
    {
      "cell_type": "code",
      "metadata": {
        "id": "sMyvzC1FnGCl"
      },
      "source": [
        "result_class2.to_excel(\"result_class2.xlsx\")"
      ],
      "execution_count": null,
      "outputs": []
    }
  ]
}